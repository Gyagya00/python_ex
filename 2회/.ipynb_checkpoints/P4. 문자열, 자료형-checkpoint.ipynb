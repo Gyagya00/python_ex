{
 "cells": [
  {
   "cell_type": "code",
   "execution_count": 1,
   "metadata": {
    "collapsed": true
   },
   "outputs": [],
   "source": [
    "s= 'say \"hello\" to mom'"
   ]
  },
  {
   "cell_type": "code",
   "execution_count": 4,
   "metadata": {
    "collapsed": true
   },
   "outputs": [],
   "source": [
    "s= 'say \\\"hello\\' to mom'"
   ]
  },
  {
   "cell_type": "code",
   "execution_count": 3,
   "metadata": {},
   "outputs": [
    {
     "name": "stdout",
     "output_type": "stream",
     "text": [
      "Dear Alice  \n",
      "How are you? \n",
      "I fine thank you\n"
     ]
    }
   ],
   "source": [
    "print('''Dear Alice  \n",
    "How are you? \n",
    "I fine thank you''')"
   ]
  },
  {
   "cell_type": "code",
   "execution_count": 5,
   "metadata": {
    "collapsed": true
   },
   "outputs": [],
   "source": [
    "hello = 'hello world'"
   ]
  },
  {
   "cell_type": "code",
   "execution_count": 6,
   "metadata": {},
   "outputs": [
    {
     "data": {
      "text/plain": [
       "'e'"
      ]
     },
     "execution_count": 6,
     "metadata": {},
     "output_type": "execute_result"
    }
   ],
   "source": [
    "hello[1]"
   ]
  },
  {
   "cell_type": "code",
   "execution_count": 7,
   "metadata": {},
   "outputs": [
    {
     "data": {
      "text/plain": [
       "' '"
      ]
     },
     "execution_count": 7,
     "metadata": {},
     "output_type": "execute_result"
    }
   ],
   "source": [
    "hello[5]"
   ]
  },
  {
   "cell_type": "code",
   "execution_count": 13,
   "metadata": {
    "collapsed": true
   },
   "outputs": [],
   "source": [
    "lang='python programming'"
   ]
  },
  {
   "cell_type": "code",
   "execution_count": 14,
   "metadata": {
    "scrolled": true
   },
   "outputs": [
    {
     "data": {
      "text/plain": [
       "'h'"
      ]
     },
     "execution_count": 14,
     "metadata": {},
     "output_type": "execute_result"
    }
   ],
   "source": [
    "lang[3]"
   ]
  },
  {
   "cell_type": "code",
   "execution_count": 15,
   "metadata": {
    "scrolled": true
   },
   "outputs": [
    {
     "data": {
      "text/plain": [
       "'pr'"
      ]
     },
     "execution_count": 15,
     "metadata": {},
     "output_type": "execute_result"
    }
   ],
   "source": [
    "lang[7:9]"
   ]
  },
  {
   "cell_type": "code",
   "execution_count": 16,
   "metadata": {
    "scrolled": true
   },
   "outputs": [
    {
     "data": {
      "text/plain": [
       "''"
      ]
     },
     "execution_count": 16,
     "metadata": {},
     "output_type": "execute_result"
    }
   ],
   "source": [
    "lang[-7:9]"
   ]
  },
  {
   "cell_type": "code",
   "execution_count": 17,
   "metadata": {},
   "outputs": [
    {
     "data": {
      "text/plain": [
       "''"
      ]
     },
     "execution_count": 17,
     "metadata": {},
     "output_type": "execute_result"
    }
   ],
   "source": [
    "lang[-7:5:9]"
   ]
  },
  {
   "cell_type": "code",
   "execution_count": 21,
   "metadata": {
    "collapsed": true
   },
   "outputs": [],
   "source": [
    "a = \"hell\"\n",
    "b = \"rarar\""
   ]
  },
  {
   "cell_type": "code",
   "execution_count": 22,
   "metadata": {},
   "outputs": [
    {
     "data": {
      "text/plain": [
       "'hellrarar'"
      ]
     },
     "execution_count": 22,
     "metadata": {},
     "output_type": "execute_result"
    }
   ],
   "source": [
    "a+b"
   ]
  },
  {
   "cell_type": "markdown",
   "metadata": {},
   "source": [
    "### len(): 괄호 안에 있는 문자열 개수 출력"
   ]
  },
  {
   "cell_type": "markdown",
   "metadata": {},
   "source": [
    "### in()"
   ]
  },
  {
   "cell_type": "code",
   "execution_count": 23,
   "metadata": {},
   "outputs": [
    {
     "data": {
      "text/plain": [
       "True"
      ]
     },
     "execution_count": 23,
     "metadata": {},
     "output_type": "execute_result"
    }
   ],
   "source": [
    "'m' in lang"
   ]
  },
  {
   "cell_type": "code",
   "execution_count": 24,
   "metadata": {},
   "outputs": [
    {
     "data": {
      "text/plain": [
       "'PYTHON PROGRAMMING'"
      ]
     },
     "execution_count": 24,
     "metadata": {},
     "output_type": "execute_result"
    }
   ],
   "source": [
    "lang.upper()"
   ]
  },
  {
   "cell_type": "code",
   "execution_count": 25,
   "metadata": {},
   "outputs": [
    {
     "data": {
      "text/plain": [
       "True"
      ]
     },
     "execution_count": 25,
     "metadata": {},
     "output_type": "execute_result"
    }
   ],
   "source": [
    "lang.islower()"
   ]
  },
  {
   "cell_type": "code",
   "execution_count": 28,
   "metadata": {},
   "outputs": [
    {
     "data": {
      "text/plain": [
       "False"
      ]
     },
     "execution_count": 28,
     "metadata": {},
     "output_type": "execute_result"
    }
   ],
   "source": [
    "lang.isupper()"
   ]
  },
  {
   "cell_type": "code",
   "execution_count": 30,
   "metadata": {},
   "outputs": [
    {
     "data": {
      "text/plain": [
       "'ksigaa'"
      ]
     },
     "execution_count": 30,
     "metadata": {},
     "output_type": "execute_result"
    }
   ],
   "source": [
    "'KSIGAA'.lower()"
   ]
  },
  {
   "cell_type": "markdown",
   "metadata": {},
   "source": [
    "### 입출력문"
   ]
  },
  {
   "cell_type": "code",
   "execution_count": 33,
   "metadata": {
    "collapsed": true
   },
   "outputs": [],
   "source": [
    "math_score=45\n",
    "science_score=58\n",
    "english_score=1"
   ]
  },
  {
   "cell_type": "code",
   "execution_count": 34,
   "metadata": {},
   "outputs": [
    {
     "name": "stdout",
     "output_type": "stream",
     "text": [
      "45 58 1\n"
     ]
    }
   ],
   "source": [
    "print(math_score,science_score,english_score)"
   ]
  },
  {
   "cell_type": "code",
   "execution_count": 35,
   "metadata": {},
   "outputs": [
    {
     "name": "stdout",
     "output_type": "stream",
     "text": [
      "내 수학점수는 : 45\n"
     ]
    }
   ],
   "source": [
    "print(\"내 수학점수는 :\",math_score)"
   ]
  },
  {
   "cell_type": "code",
   "execution_count": 36,
   "metadata": {
    "scrolled": true
   },
   "outputs": [
    {
     "name": "stdout",
     "output_type": "stream",
     "text": [
      "내 과학점수는 : 58\n"
     ]
    }
   ],
   "source": [
    "print(\"내 과학점수는 :\",science_score)"
   ]
  },
  {
   "cell_type": "code",
   "execution_count": 37,
   "metadata": {},
   "outputs": [
    {
     "name": "stdout",
     "output_type": "stream",
     "text": [
      "내 영어점수는 : 1\n"
     ]
    }
   ],
   "source": [
    "print(\"내 영어점수는 :\", english_score)"
   ]
  },
  {
   "cell_type": "code",
   "execution_count": null,
   "metadata": {
    "collapsed": true
   },
   "outputs": [],
   "source": [
    "print(\"내 수학점수는 :\", math_score,\"내 영어점수는\",)"
   ]
  },
  {
   "cell_type": "code",
   "execution_count": 38,
   "metadata": {
    "scrolled": true
   },
   "outputs": [
    {
     "name": "stdout",
     "output_type": "stream",
     "text": [
      "수학점수는 : 45\n",
      ", 과학점수는 58\n",
      ", 영어점수는 1 이다 \n"
     ]
    }
   ],
   "source": [
    "print(\"수학점수는 : {}\\n, 과학점수는 {}\\n, 영어점수는 {} 이다 \"\n",
    "      .format(math_score, science_score, english_score))\n"
   ]
  },
  {
   "cell_type": "code",
   "execution_count": 39,
   "metadata": {
    "scrolled": true
   },
   "outputs": [
    {
     "name": "stdout",
     "output_type": "stream",
     "text": [
      "수학점수는 : 1\n",
      ", 과학점수는 1\n",
      ", 영어점수는 1 이다 \n"
     ]
    }
   ],
   "source": [
    "print(\"수학점수는 : {2}\\n, 과학점수는 {2}\\n, 영어점수는 {2} 이다 \"\n",
    "      .format(math_score, science_score, english_score))\n"
   ]
  },
  {
   "cell_type": "code",
   "execution_count": 40,
   "metadata": {
    "scrolled": false
   },
   "outputs": [
    {
     "ename": "IndexError",
     "evalue": "tuple index out of range",
     "output_type": "error",
     "traceback": [
      "\u001b[1;31m---------------------------------------------------------------------------\u001b[0m",
      "\u001b[1;31mIndexError\u001b[0m                                Traceback (most recent call last)",
      "\u001b[1;32m<ipython-input-40-182f86b1a083>\u001b[0m in \u001b[0;36m<module>\u001b[1;34m()\u001b[0m\n\u001b[0;32m      1\u001b[0m print(\"수학점수는 : {3}\\n, 과학점수는 {3}\\n, 영어점수는 {1} 이다 \"\n\u001b[1;32m----> 2\u001b[1;33m       .format(math_score, science_score, english_score))\n\u001b[0m",
      "\u001b[1;31mIndexError\u001b[0m: tuple index out of range"
     ]
    }
   ],
   "source": [
    "print(\"수학점수는 : {3}\\n, 과학점수는 {3}\\n, 영어점수는 {1} 이다 \"\n",
    "      .format(math_score, science_score, english_score))\n"
   ]
  },
  {
   "cell_type": "code",
   "execution_count": 42,
   "metadata": {
    "collapsed": true
   },
   "outputs": [],
   "source": [
    "print?"
   ]
  },
  {
   "cell_type": "code",
   "execution_count": 58,
   "metadata": {
    "scrolled": true
   },
   "outputs": [
    {
     "name": "stdout",
     "output_type": "stream",
     "text": [
      "asflskgl"
     ]
    }
   ],
   "source": [
    "print('a',end =\"sflskgl\")"
   ]
  },
  {
   "cell_type": "code",
   "execution_count": 59,
   "metadata": {},
   "outputs": [
    {
     "name": "stdout",
     "output_type": "stream",
     "text": [
      "안녕e"
     ]
    }
   ],
   "source": [
    "print('안녕', end='e')"
   ]
  },
  {
   "cell_type": "markdown",
   "metadata": {},
   "source": [
    "### 입력문 input()"
   ]
  },
  {
   "cell_type": "code",
   "execution_count": 46,
   "metadata": {},
   "outputs": [
    {
     "name": "stdout",
     "output_type": "stream",
     "text": [
      "gg\n"
     ]
    },
    {
     "data": {
      "text/plain": [
       "'gg'"
      ]
     },
     "execution_count": 46,
     "metadata": {},
     "output_type": "execute_result"
    }
   ],
   "source": [
    "input()"
   ]
  },
  {
   "cell_type": "code",
   "execution_count": 56,
   "metadata": {},
   "outputs": [
    {
     "name": "stdout",
     "output_type": "stream",
     "text": [
      "이름을 입력하세요 : 노가은\n",
      "전화번호를 입력하세요 :0134\n",
      "주소를 입력하세요 :광주\n",
      "이름 :노가은\n",
      " 전화번호 :0134\n",
      "주소 :광주\n"
     ]
    }
   ],
   "source": [
    "name = input(\"이름을 입력하세요 : \")\n",
    "phone = input(\"전화번호를 입력하세요 :\")\n",
    "add = input(\"주소를 입력하세요 :\")\n",
    "\n",
    "print(\"이름 :{0}\\n전화번호 :{1}\\n주소 :{2}\"\n",
    "      .format(name,phone,add))"
   ]
  },
  {
   "cell_type": "markdown",
   "metadata": {},
   "source": [
    "### 문제"
   ]
  },
  {
   "cell_type": "markdown",
   "metadata": {},
   "source": [
    "```세 과목(국어, 수학, 영어) 성적을 input() 함수로 입력받아 세 과\n",
    "목의 총점과 평균을 구하는 프로그램을 작성하시오. 평균은 소수점\n",
    "둘째 자리까지 출력되도록 한다.```"
   ]
  },
  {
   "cell_type": "code",
   "execution_count": 12,
   "metadata": {},
   "outputs": [
    {
     "name": "stdout",
     "output_type": "stream",
     "text": [
      "국어 성적을 입력하세요 :78\n",
      "수학 성적을 입력하세요 :90\n",
      "영어 성적을 입력하세요 :86\n",
      "\n",
      "입력받은 성적\n",
      "-----------\n",
      "국어 성적 : 78\n",
      "수학 성적 : 90\n",
      "영어 성적 : 86\n",
      "-----------\n",
      "\n",
      "총점 :  254 \n",
      "평균 :  84.66666666666667\n"
     ]
    }
   ],
   "source": [
    "#점수입력\n",
    "'''input으로 입력을 받으면 문자열으로 된다. \n",
    "따라서 int()함수로 데이터타입을 변형한 뒤 각 변수에 할당한다\n",
    "'''\n",
    "\n",
    "x = input(\"국어 성적을 입력하세요 :\")\n",
    "y = input(\"수학 성적을 입력하세요 :\")\n",
    "z = input(\"영어 성적을 입력하세요 :\")\n",
    "\n",
    "print()\n",
    "print(\"입력받은 성적\") \n",
    "print(\"-\"*15)\n",
    "\n",
    "print(\"국어 성적 : {}\\n수학 성적 : {}\\n영어 성적 : {}\"\n",
    "     .format(x, y, z))\n",
    "\n",
    "print(\"-\"*15)\n",
    "print()\n",
    "  \n",
    "a = int(x)+int(y)+int(z)\n",
    "b = a/3\n",
    "print(\"총점 : \",a, '\\n' \"평균 : \",b)"
   ]
  },
  {
   "cell_type": "markdown",
   "metadata": {
    "collapsed": true
   },
   "source": [
    "'''input() 함수를 이용하여 원의 반지름을 입력받는다. 입력받은 반\n",
    "지름으로 원의 넓이와 원의 둘레를 구하여 소수 셋째 자리까지 출\n",
    "력하는 프로그램을 작성하시오. 원주율을 3.141592로 한다.'''"
   ]
  },
  {
   "cell_type": "code",
   "execution_count": 1,
   "metadata": {},
   "outputs": [
    {
     "name": "stdout",
     "output_type": "stream",
     "text": [
      "반지름을 입력하세요 :5\n",
      "반지름 :  5\n",
      "원의 넓이 :  78.5398 \n",
      "원의 둘레 :  31.41592\n"
     ]
    }
   ],
   "source": [
    "cir = int(input(\"반지름을 입력하세요 :\",))\n",
    "print(\"반지름 : \", cir)\n",
    "\n",
    "area = cir**2*3.141592\n",
    "length = cir*2*3.141592\n",
    "\n",
    "print(\"원의 넓이 : \",area, \"\\n원의 둘레 : \", length)\n"
   ]
  },
  {
   "cell_type": "code",
   "execution_count": 11,
   "metadata": {},
   "outputs": [
    {
     "name": "stdout",
     "output_type": "stream",
     "text": [
      "다섯 자리 숫자를 입력하시오 : 45275\n",
      "\n",
      "4 , 5 , 2 , 7 , 5\n",
      "\n",
      "끝낼려면 엔터를 누르세요.\n",
      "\n",
      ">>>\n"
     ]
    }
   ],
   "source": [
    "num = input(\"다섯 자리 숫자를 입력하시오 : \")\n",
    "print()\n",
    "print(num[0],',',num[1],',',num[2],',',num[3],',',num[4])\n",
    "print()\n",
    "input(\"끝낼려면 엔터를 누르세요.\")\n",
    "\n",
    "print()\n",
    "print(\">>>\")"
   ]
  },
  {
   "cell_type": "code",
   "execution_count": null,
   "metadata": {
    "collapsed": true
   },
   "outputs": [],
   "source": []
  }
 ],
 "metadata": {
  "kernelspec": {
   "display_name": "Python 3",
   "language": "python",
   "name": "python3"
  },
  "language_info": {
   "codemirror_mode": {
    "name": "ipython",
    "version": 3
   },
   "file_extension": ".py",
   "mimetype": "text/x-python",
   "name": "python",
   "nbconvert_exporter": "python",
   "pygments_lexer": "ipython3",
   "version": "3.6.3"
  }
 },
 "nbformat": 4,
 "nbformat_minor": 2
}
